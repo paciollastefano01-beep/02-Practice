{
 "cells": [
  {
   "cell_type": "code",
   "execution_count": 1,
   "id": "9b8d2eb9",
   "metadata": {},
   "outputs": [
    {
     "name": "stdout",
     "output_type": "stream",
     "text": [
      "5\n"
     ]
    }
   ],
   "source": [
    "# La mia prima variabile!\n",
    "x = 5\n",
    "print(x)"
   ]
  },
  {
   "cell_type": "code",
   "execution_count": 2,
   "id": "c016c74d",
   "metadata": {},
   "outputs": [
    {
     "name": "stdout",
     "output_type": "stream",
     "text": [
      "Mario\n",
      "25\n",
      "Roma\n"
     ]
    }
   ],
   "source": [
    "# Esercizio: Variabili\n",
    "nome = \"Mario\"\n",
    "eta = 25\n",
    "citta = \"Roma\"\n",
    "\n",
    "print(nome)\n",
    "print(eta)\n",
    "print(citta)"
   ]
  },
  {
   "cell_type": "code",
   "execution_count": 3,
   "id": "e0174bbd",
   "metadata": {},
   "outputs": [
    {
     "name": "stdout",
     "output_type": "stream",
     "text": [
      "Int: 25 -5 1000000\n",
      "Float: 19.99 3.14159 36.6\n",
      "String: Stefano Python è fantastico! 🐍\n",
      "Bool: True False\n"
     ]
    }
   ],
   "source": [
    "# I 4 tipi fondamentali\n",
    "\n",
    "# 1. Integer (int) - Numeri interi\n",
    "anni = 25\n",
    "temperatura = -5\n",
    "abitanti = 1000000\n",
    "\n",
    "print(\"Int:\", anni, temperatura, abitanti)\n",
    "\n",
    "# 2. Float - Numeri decimali\n",
    "prezzo = 19.99\n",
    "pi_greco = 3.14159\n",
    "temperatura_esatta = 36.6\n",
    "\n",
    "print(\"Float:\", prezzo, pi_greco, temperatura_esatta)\n",
    "\n",
    "# 3. String (str) - Testo\n",
    "nome = \"Stefano\"\n",
    "frase = 'Python è fantastico!'\n",
    "emoji = \"🐍\"\n",
    "\n",
    "print(\"String:\", nome, frase, emoji)\n",
    "\n",
    "# 4. Boolean (bool) - Vero/Falso\n",
    "is_student = True\n",
    "is_raining = False\n",
    "\n",
    "print(\"Bool:\", is_student, is_raining)"
   ]
  },
  {
   "cell_type": "code",
   "execution_count": 4,
   "id": "e99ab1e1",
   "metadata": {},
   "outputs": [
    {
     "name": "stdout",
     "output_type": "stream",
     "text": [
      "<class 'int'>\n",
      "<class 'float'>\n",
      "<class 'str'>\n",
      "<class 'bool'>\n"
     ]
    }
   ],
   "source": [
    "# Scoprire il tipo di una variabile\n",
    "\n",
    "x = 42\n",
    "y = 3.14\n",
    "nome = \"Mario\"\n",
    "vero = True\n",
    "\n",
    "print(type(x))      # Tipo di x?\n",
    "print(type(y))      # Tipo di y?\n",
    "print(type(nome))   # Tipo di nome?\n",
    "print(type(vero))   # Tipo di vero?"
   ]
  },
  {
   "cell_type": "code",
   "execution_count": 5,
   "id": "31c32fa8",
   "metadata": {},
   "outputs": [
    {
     "name": "stdout",
     "output_type": "stream",
     "text": [
      "var1: <class 'int'>\n",
      "var2: <class 'str'>\n",
      "var3: <class 'float'>\n",
      "var4: <class 'bool'>\n",
      "var5: <class 'str'>\n"
     ]
    }
   ],
   "source": [
    "# Indovina prima di eseguire!\n",
    "\n",
    "var1 = 100\n",
    "var2 = \"100\"\n",
    "var3 = 100.0\n",
    "var4 = True\n",
    "var5 = \"True\"\n",
    "\n",
    "# Ora verifica\n",
    "print(\"var1:\", type(var1))  # Indovina: ?\n",
    "print(\"var2:\", type(var2))  # Indovina: ?\n",
    "print(\"var3:\", type(var3))  # Indovina: ?\n",
    "print(\"var4:\", type(var4))  # Indovina: ?\n",
    "print(\"var5:\", type(var5))  # Indovina: ?"
   ]
  },
  {
   "cell_type": "code",
   "execution_count": 6,
   "id": "c4ea461c",
   "metadata": {},
   "outputs": [
    {
     "name": "stdout",
     "output_type": "stream",
     "text": [
      "Ciao mondo!\n",
      "42\n",
      "3.14\n",
      "Stefano\n",
      "Nome: Stefano - Età: 25\n",
      "Ciao Python!\n",
      "Prima riga\n",
      "Seconda riga\n",
      "\n",
      "Dopo riga vuota\n"
     ]
    }
   ],
   "source": [
    "# Modi diversi di usare print()\n",
    "\n",
    "# 1. Stampare testo\n",
    "print(\"Ciao mondo!\")\n",
    "\n",
    "# 2. Stampare numeri\n",
    "print(42)\n",
    "print(3.14)\n",
    "\n",
    "# 3. Stampare variabili\n",
    "nome = \"Stefano\"\n",
    "print(nome)\n",
    "\n",
    "# 4. Stampare più cose insieme (separate da spazio)\n",
    "print(\"Nome:\", nome, \"- Età:\", 25)\n",
    "\n",
    "# 5. Stampare senza andare a capo (end=\"\")\n",
    "print(\"Ciao\", end=\" \")\n",
    "print(\"Python!\")\n",
    "\n",
    "# 6. Andare a capo (\\n)\n",
    "print(\"Prima riga\\nSeconda riga\")\n",
    "\n",
    "# 7. Stampare niente (riga vuota)\n",
    "print()\n",
    "print(\"Dopo riga vuota\")"
   ]
  },
  {
   "cell_type": "code",
   "execution_count": 7,
   "id": "3f22d36a",
   "metadata": {},
   "outputs": [
    {
     "name": "stdout",
     "output_type": "stream",
     "text": [
      "Mi chiamo Stefano e ho 25 anni\n",
      "Mi chiamo Stefano e ho 25 anni\n",
      "Vivo a Roma\n",
      "Totale: 59.97€\n",
      "Pi greco: 3.14\n"
     ]
    }
   ],
   "source": [
    "# F-strings (formatted strings) - IL MIGLIORE!\n",
    "\n",
    "nome = \"Stefano\"\n",
    "eta = 25\n",
    "citta = \"Roma\"\n",
    "\n",
    "# Vecchio modo (brutto)\n",
    "print(\"Mi chiamo \" + nome + \" e ho \" + str(eta) + \" anni\")\n",
    "\n",
    "# Modo moderno (f-string) - BELLISSIMO!\n",
    "print(f\"Mi chiamo {nome} e ho {eta} anni\")\n",
    "print(f\"Vivo a {citta}\")\n",
    "\n",
    "# Puoi fare anche calcoli dentro {}\n",
    "prezzo = 19.99\n",
    "quantita = 3\n",
    "print(f\"Totale: {prezzo * quantita}€\")\n",
    "\n",
    "# Formattare numeri\n",
    "pi_greco = 3.14159265359\n",
    "print(f\"Pi greco: {pi_greco:.2f}\")  # 2 decimali"
   ]
  },
  {
   "cell_type": "code",
   "execution_count": 8,
   "id": "adbbcc1f",
   "metadata": {},
   "outputs": [
    {
     "name": "stdout",
     "output_type": "stream",
     "text": [
      "Ciao! Sono ..., ho 0 anni e vivo a .... Adoro ...!\n",
      "\n",
      "Tra 5 anni avrò 5 anni!\n"
     ]
    }
   ],
   "source": [
    "# Esercizio: Crea il tuo messaggio!\n",
    "\n",
    "# Crea queste variabili con i TUOI dati\n",
    "tuo_nome = \"...\"        # Inserisci tuo nome\n",
    "tua_eta = 0             # Inserisci tua età\n",
    "tua_citta = \"...\"       # Inserisci tua città\n",
    "hobby = \"...\"           # Un tuo hobby\n",
    "\n",
    "# Ora usa f-string per creare messaggio\n",
    "messaggio = f\"Ciao! Sono {tuo_nome}, ho {tua_eta} anni e vivo a {tua_citta}. Adoro {hobby}!\"\n",
    "\n",
    "print(messaggio)\n",
    "print(f\"\\nTra 5 anni avrò {tua_eta + 5} anni!\")"
   ]
  },
  {
   "cell_type": "code",
   "execution_count": 9,
   "id": "d75f9bf0",
   "metadata": {},
   "outputs": [
    {
     "name": "stdout",
     "output_type": "stream",
     "text": [
      "Ciao! Sono Stefano, ho 29 anni e vivo a Rimini. Adoro Fare Trading!\n",
      "\n",
      "Tra 5 anni avrò 34 anni!\n"
     ]
    }
   ],
   "source": [
    "# Esercizio: Crea il tuo messaggio!\n",
    "\n",
    "# Crea queste variabili con i TUOI dati\n",
    "tuo_nome = \"Stefano\"        # Inserisci tuo nome\n",
    "tua_eta = 29             # Inserisci tua età\n",
    "tua_citta = \"Rimini\"       # Inserisci tua città\n",
    "hobby = \"Fare Trading\"           # Un tuo hobby\n",
    "\n",
    "# Ora usa f-string per creare messaggio\n",
    "messaggio = f\"Ciao! Sono {tuo_nome}, ho {tua_eta} anni e vivo a {tua_citta}. Adoro {hobby}!\"\n",
    "\n",
    "print(messaggio)\n",
    "print(f\"\\nTra 5 anni avrò {tua_eta + 5} anni!\")"
   ]
  },
  {
   "cell_type": "code",
   "execution_count": 10,
   "id": "64ac49d8",
   "metadata": {},
   "outputs": [
    {
     "name": "stdout",
     "output_type": "stream",
     "text": [
      "Ciao stefano! 👋\n"
     ]
    }
   ],
   "source": [
    "# Primo input!\n",
    "\n",
    "nome = input(\"Come ti chiami? \")\n",
    "print(f\"Ciao {nome}! 👋\")"
   ]
  },
  {
   "cell_type": "code",
   "execution_count": 11,
   "id": "48ec67d9",
   "metadata": {},
   "outputs": [
    {
     "name": "stdout",
     "output_type": "stream",
     "text": [
      "Ciao stefano! 👋\n"
     ]
    }
   ],
   "source": [
    "# Primo input!\n",
    "\n",
    "nome = input(\"Come ti chiami? \")\n",
    "print(f\"Ciao {nome}! 👋\")"
   ]
  },
  {
   "cell_type": "code",
   "execution_count": 12,
   "id": "1548e13b",
   "metadata": {},
   "outputs": [
    {
     "name": "stdout",
     "output_type": "stream",
     "text": [
      "Hai 29 anni\n",
      "Tra 10 anni avrai 39 anni!\n",
      "Sei alto 169cm, cioè 1.69m\n",
      "Con IVA 22%: 28.06€\n"
     ]
    }
   ],
   "source": [
    "# Input con conversione tipo\n",
    "\n",
    "# Chiedi età (numero)\n",
    "eta_str = input(\"Quanti anni hai? \")\n",
    "eta = int(eta_str)  # Converti stringa → int\n",
    "\n",
    "print(f\"Hai {eta} anni\")\n",
    "print(f\"Tra 10 anni avrai {eta + 10} anni!\")\n",
    "\n",
    "# Versione compatta (converti subito)\n",
    "altezza = int(input(\"Altezza in cm? \"))\n",
    "print(f\"Sei alto {altezza}cm, cioè {altezza/100}m\")\n",
    "\n",
    "# Input decimale (float)\n",
    "prezzo = float(input(\"Prezzo prodotto: \"))\n",
    "print(f\"Con IVA 22%: {prezzo * 1.22:.2f}€\")"
   ]
  },
  {
   "cell_type": "code",
   "execution_count": 13,
   "id": "97d208b9",
   "metadata": {},
   "outputs": [
    {
     "name": "stdout",
     "output_type": "stream",
     "text": [
      "Hai 29 anni\n",
      "Tra 10 anni avrai 39 anni!\n",
      "Sei alto 169cm, cioè 1.69m\n",
      "Con IVA 22%: 68.32€\n"
     ]
    }
   ],
   "source": [
    "# Input con conversione tipo\n",
    "\n",
    "# Chiedi età (numero)\n",
    "eta_str = input(\"Quanti anni hai? \")\n",
    "eta = int(eta_str)  # Converti stringa → int\n",
    "\n",
    "print(f\"Hai {eta} anni\")\n",
    "print(f\"Tra 10 anni avrai {eta + 10} anni!\")\n",
    "\n",
    "# Versione compatta (converti subito)\n",
    "altezza = int(input(\"Altezza in cm? \"))\n",
    "print(f\"Sei alto {altezza}cm, cioè {altezza/100}m\")\n",
    "\n",
    "# Input decimale (float)\n",
    "prezzo = float(input(\"Prezzo prodotto: \"))\n",
    "print(f\"Con IVA 22%: {prezzo * 1.22:.2f}€\")"
   ]
  },
  {
   "cell_type": "code",
   "execution_count": 14,
   "id": "38b9b7f6",
   "metadata": {},
   "outputs": [
    {
     "name": "stdout",
     "output_type": "stream",
     "text": [
      "\n",
      "📅 Hai 29 anni!\n",
      "🔮 Nel 2035 avrai 39 anni!\n",
      "👴 Nel 2075 avrai 79 anni!\n"
     ]
    }
   ],
   "source": [
    "# Esercizio: Calcolatrice età\n",
    "\n",
    "# Chiedi anno nascita\n",
    "anno_nascita = int(input(\"In che anno sei nato? \"))\n",
    "\n",
    "# Calcola età (assumiamo anno 2025)\n",
    "anno_corrente = 2025\n",
    "eta_attuale = anno_corrente - anno_nascita\n",
    "\n",
    "# Mostra risultati\n",
    "print(f\"\\n📅 Hai {eta_attuale} anni!\")\n",
    "print(f\"🔮 Nel 2035 avrai {eta_attuale + 10} anni!\")\n",
    "print(f\"👴 Nel 2075 avrai {eta_attuale + 50} anni!\")"
   ]
  },
  {
   "cell_type": "code",
   "execution_count": 16,
   "id": "4a84235a",
   "metadata": {},
   "outputs": [
    {
     "name": "stdout",
     "output_type": "stream",
     "text": [
      "==================================================\n",
      "🎨 CREATORE PRESENTAZIONE PERSONALE\n",
      "==================================================\n",
      "\n",
      "\n",
      "==================================================\n",
      "📄 LA TUA PRESENTAZIONE\n",
      "==================================================\n",
      "\n",
      "👤 Nome: stefano paciolla\n",
      "🎂 Età: 29 anni\n",
      "🏙️ Città: rimini\n",
      "🎮 Hobby: fare trading\n",
      "💻 Linguaggio preferito: python anaconda\n",
      "\n",
      "📊 STATISTICHE:\n",
      "  • Tra 5 anni: 34 anni\n",
      "  • Tra 10 anni: 39 anni\n",
      "  • Mancano 1 anni ai 30!\n",
      "\n",
      "==================================================\n",
      "✅ Presentazione completata!\n",
      "==================================================\n"
     ]
    }
   ],
   "source": [
    "# 🎉 MINI-PROGETTO GIORNO 1: Presentazione Interattiva\n",
    "\n",
    "print(\"=\" * 50)\n",
    "print(\"🎨 CREATORE PRESENTAZIONE PERSONALE\")\n",
    "print(\"=\" * 50)\n",
    "print()\n",
    "\n",
    "# Raccogli informazioni\n",
    "nome = input(\"💁 Nome completo: \")\n",
    "eta = int(input(\"🎂 Età: \"))\n",
    "citta = input(\"🏙️ Città: \")\n",
    "hobby = input(\"🎮 Hobby preferito: \")\n",
    "linguaggio = input(\"💻 Linguaggio programmazione preferito: \")\n",
    "\n",
    "# Calcoli extra\n",
    "anni_a_30 = 30 - eta if eta < 30 else 0\n",
    "\n",
    "# Genera presentazione\n",
    "print(\"\\n\" + \"=\" * 50)\n",
    "print(\"📄 LA TUA PRESENTAZIONE\")\n",
    "print(\"=\" * 50)\n",
    "print()\n",
    "print(f\"👤 Nome: {nome}\")\n",
    "print(f\"🎂 Età: {eta} anni\")\n",
    "print(f\"🏙️ Città: {citta}\")\n",
    "print(f\"🎮 Hobby: {hobby}\")\n",
    "print(f\"💻 Linguaggio preferito: {linguaggio}\")\n",
    "print()\n",
    "print(\"📊 STATISTICHE:\")\n",
    "print(f\"  • Tra 5 anni: {eta + 5} anni\")\n",
    "print(f\"  • Tra 10 anni: {eta + 10} anni\")\n",
    "if anni_a_30 > 0:\n",
    "    print(f\"  • Mancano {anni_a_30} anni ai 30!\")\n",
    "else:\n",
    "    print(f\"  • Hai superato i 30 anni!\")\n",
    "print()\n",
    "print(\"=\" * 50)\n",
    "print(\"✅ Presentazione completata!\")\n",
    "print(\"=\" * 50)"
   ]
  },
  {
   "cell_type": "code",
   "execution_count": 17,
   "id": "32fad475",
   "metadata": {},
   "outputs": [
    {
     "name": "stdout",
     "output_type": "stream",
     "text": [
      "🏋️ CALCOLATORE BMI\n",
      "\n",
      "\n",
      "📊 Il tuo BMI è: 28.89\n",
      "⚠️ Sovrappeso\n"
     ]
    }
   ],
   "source": [
    "# 🎯 ESERCIZI EXTRA - Consolidamento\n",
    "# Esercizio A: Calcolatore BMI\n",
    "# Body Mass Index = peso / (altezza in metri)^2\n",
    "\n",
    "print(\"🏋️ CALCOLATORE BMI\\n\")\n",
    "\n",
    "peso = float(input(\"Peso in kg: \"))\n",
    "altezza = float(input(\"Altezza in metri (es. 1.75): \"))\n",
    "\n",
    "bmi = peso / (altezza ** 2)\n",
    "\n",
    "print(f\"\\n📊 Il tuo BMI è: {bmi:.2f}\")\n",
    "\n",
    "# Interpretazione (bonus!)\n",
    "if bmi < 18.5:\n",
    "    print(\"⚠️ Sottopeso\")\n",
    "elif bmi < 25:\n",
    "    print(\"✅ Peso normale\")\n",
    "elif bmi < 30:\n",
    "    print(\"⚠️ Sovrappeso\")\n",
    "else:\n",
    "    print(\"🚨 Obesità\")"
   ]
  },
  {
   "cell_type": "code",
   "execution_count": null,
   "id": "7ba2c677",
   "metadata": {},
   "outputs": [
    {
     "name": "stdout",
     "output_type": "stream",
     "text": [
      "🌡️ CONVERTITORE TEMPERATURE\n",
      "\n",
      "\n",
      "25.0°C = 77.0°F\n",
      "❄️ Acqua congela a: 0°C = 32°F\n",
      "💧 Acqua bolle a: 100°C = 212°F\n"
     ]
    }
   ],
   "source": [
    "# Esercizio B: Convertitore Temperature\n",
    "# Celsius → Fahrenheit\n",
    "# Formula: F = C * 9/5 + 32\n",
    "\n",
    "print(\"🌡️ CONVERTITORE TEMPERATURE\\n\")\n",
    "\n",
    "celsius = float(input(\"Temperatura in Celsius: \"))\n",
    "fahrenheit = celsius * 9/5 + 32\n",
    "\n",
    "print(f\"\\n{celsius}°C = {fahrenheit:.1f}°F\")\n",
    "print(f\"❄️ Acqua congela a: 0°C = 32°F\")\n",
    "print(f\"💧 Acqua bolle a: 100°C = 212°F\")"
   ]
  },
  {
   "cell_type": "code",
   "execution_count": 25,
   "id": "618191b3",
   "metadata": {},
   "outputs": [
    {
     "name": "stdout",
     "output_type": "stream",
     "text": [
      "💰 CALCOLATORE SCONTO\n",
      "\n",
      "\n",
      "========================================\n",
      "💵 Prezzo originale: 50.00€\n",
      "🎟️ Sconto 20.0%: -10.00€\n",
      "✅ Prezzo finale: 40.00€\n",
      "💎 Risparmi: 20%\n",
      "========================================\n"
     ]
    }
   ],
   "source": [
    "# Esercizio C: Calcolatore Sconto\n",
    "\n",
    "print(\"💰 CALCOLATORE SCONTO\\n\")\n",
    "\n",
    "prezzo_originale = float(input(\"Prezzo originale (€): \"))\n",
    "percentuale_sconto = float(input(\"Sconto %: \"))\n",
    "\n",
    "sconto = prezzo_originale * (percentuale_sconto / 100)\n",
    "prezzo_finale = prezzo_originale - sconto\n",
    "risparmio_percentuale = (sconto / prezzo_originale) * 100\n",
    "\n",
    "print(\"\\n\" + \"=\" * 40)\n",
    "print(f\"💵 Prezzo originale: {prezzo_originale:.2f}€\")\n",
    "print(f\"🎟️ Sconto {percentuale_sconto}%: -{sconto:.2f}€\")\n",
    "print(f\"✅ Prezzo finale: {prezzo_finale:.2f}€\")\n",
    "print(f\"💎 Risparmi: {risparmio_percentuale:.0f}%\")\n",
    "print(\"=\" * 40)\n"
   ]
  },
  {
   "cell_type": "code",
   "execution_count": 28,
   "id": "8ae2e7c4",
   "metadata": {},
   "outputs": [
    {
     "name": "stdout",
     "output_type": "stream",
     "text": [
      "🏋️ CALCOLATORE BMI AVANZATO\n",
      "\n",
      "\n",
      "📊 RISULTATI:\n",
      "BMI attuale: 28.37\n",
      "Peso ideale: 63.6 kg\n",
      "Dovresti perdere: 18.4 kg\n"
     ]
    }
   ],
   "source": [
    "# BMI con calcolo peso ideale\n",
    "\n",
    "print(\"🏋️ CALCOLATORE BMI AVANZATO\\n\")\n",
    "\n",
    "altezza = float(input(\"Altezza in metri: \"))\n",
    "peso_attuale = float(input(\"Peso attuale in kg: \"))\n",
    "\n",
    "# Calcola BMI attuale\n",
    "bmi_attuale = peso_attuale / (altezza ** 2)\n",
    "\n",
    "# Calcola peso ideale (BMI = 22, considerato ottimale)\n",
    "peso_ideale = 22 * (altezza ** 2)\n",
    "\n",
    "# Differenza\n",
    "differenza = peso_attuale - peso_ideale\n",
    "\n",
    "print(f\"\\n📊 RISULTATI:\")\n",
    "print(f\"BMI attuale: {bmi_attuale:.2f}\")\n",
    "print(f\"Peso ideale: {peso_ideale:.1f} kg\")\n",
    "\n",
    "if differenza > 0:\n",
    "    print(f\"Dovresti perdere: {differenza:.1f} kg\")\n",
    "elif differenza < 0:\n",
    "    print(f\"Potresti aumentare: {abs(differenza):.1f} kg\")\n",
    "else:\n",
    "    print(\"Peso perfetto! 🎯\")"
   ]
  },
  {
   "cell_type": "code",
   "execution_count": 30,
   "id": "15481672",
   "metadata": {},
   "outputs": [
    {
     "name": "stdout",
     "output_type": "stream",
     "text": [
      "🌡️ CONVERTITORE TEMPERATURE AVANZATO\n",
      "\n",
      "36.0°C = 96.8°F\n"
     ]
    }
   ],
   "source": [
    "# Convertitore bidirezionale C ↔ F\n",
    "\n",
    "print(\"🌡️ CONVERTITORE TEMPERATURE AVANZATO\\n\")\n",
    "\n",
    "tipo = input(\"Converti da (C/F)? \").upper()\n",
    "\n",
    "if tipo == \"C\":\n",
    "    celsius = float(input(\"Temperatura in Celsius: \"))\n",
    "    fahrenheit = celsius * 9/5 + 32\n",
    "    print(f\"{celsius}°C = {fahrenheit:.1f}°F\")\n",
    "elif tipo == \"F\":\n",
    "    fahrenheit = float(input(\"Temperatura in Fahrenheit: \"))\n",
    "    celsius = (fahrenheit - 32) * 5/9\n",
    "    print(f\"{fahrenheit}°F = {celsius:.1f}°C\")\n",
    "else:\n",
    "    print(\"Errore! Scegli C o F\")"
   ]
  },
  {
   "cell_type": "code",
   "execution_count": 31,
   "id": "a1963544",
   "metadata": {},
   "outputs": [
    {
     "name": "stdout",
     "output_type": "stream",
     "text": [
      "🍽️ CALCOLATORE MANCIA\n",
      "\n",
      "\n",
      "💰 RIEPILOGO:\n",
      "Conto: 109.00€\n",
      "Mancia 10.0%: 10.90€\n",
      "Totale: 119.90€\n",
      "A persona: 29.98€\n"
     ]
    }
   ],
   "source": [
    "# Nuovo esercizio: calcola mancia ristorante\n",
    "\n",
    "print(\"🍽️ CALCOLATORE MANCIA\\n\")\n",
    "\n",
    "conto = float(input(\"Totale conto (€): \"))\n",
    "percentuale = float(input(\"Mancia % (es. 10, 15, 20): \"))\n",
    "persone = int(input(\"Numero persone: \"))\n",
    "\n",
    "mancia = conto * (percentuale / 100)\n",
    "totale = conto + mancia\n",
    "per_persona = totale / persone\n",
    "\n",
    "print(f\"\\n💰 RIEPILOGO:\")\n",
    "print(f\"Conto: {conto:.2f}€\")\n",
    "print(f\"Mancia {percentuale}%: {mancia:.2f}€\")\n",
    "print(f\"Totale: {totale:.2f}€\")\n",
    "print(f\"A persona: {per_persona:.2f}€\")"
   ]
  },
  {
   "cell_type": "code",
   "execution_count": null,
   "id": "adfb6134",
   "metadata": {},
   "outputs": [],
   "source": []
  }
 ],
 "metadata": {
  "kernelspec": {
   "display_name": "base",
   "language": "python",
   "name": "python3"
  },
  "language_info": {
   "codemirror_mode": {
    "name": "ipython",
    "version": 3
   },
   "file_extension": ".py",
   "mimetype": "text/x-python",
   "name": "python",
   "nbconvert_exporter": "python",
   "pygments_lexer": "ipython3",
   "version": "3.13.5"
  }
 },
 "nbformat": 4,
 "nbformat_minor": 5
}

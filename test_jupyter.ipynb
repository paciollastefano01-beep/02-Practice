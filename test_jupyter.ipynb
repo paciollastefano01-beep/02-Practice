{
 "cells": [
  {
   "cell_type": "code",
   "execution_count": 1,
   "id": "128bb01d",
   "metadata": {},
   "outputs": [
    {
     "name": "stdout",
     "output_type": "stream",
     "text": [
      "Python: 3.11.9 (tags/v3.11.9:de54cf5, Apr  2 2024, 10:12:12) [MSC v.1938 64 bit (AMD64)]\n",
      "✅ Jupyter in VS Code funziona!\n"
     ]
    }
   ],
   "source": [
    "# Test Jupyter in VS Code\n",
    "import sys\n",
    "print(f\"Python: {sys.version}\")\n",
    "print(\"✅ Jupyter in VS Code funziona!\")"
   ]
  },
  {
   "cell_type": "code",
   "execution_count": 3,
   "id": "4e460dd5",
   "metadata": {},
   "outputs": [
    {
     "name": "stdout",
     "output_type": "stream",
     "text": [
      "✅ NumPy: 2.1.3\n",
      "✅ Pandas: 2.2.3\n",
      "✅ Matplotlib: 3.10.0\n",
      "\n",
      "🎉 Tutte le librerie AI/ML pronte!\n"
     ]
    }
   ],
   "source": [
    "# Test librerie AI (CORRETTO!)\n",
    "import numpy as np\n",
    "import pandas as pd\n",
    "import matplotlib\n",
    "import matplotlib.pyplot as plt\n",
    "\n",
    "print(\"✅ NumPy:\", np.__version__)\n",
    "print(\"✅ Pandas:\", pd.__version__)\n",
    "print(\"✅ Matplotlib:\", matplotlib.__version__)  # ← CORRETTO!\n",
    "print(\"\\n🎉 Tutte le librerie AI/ML pronte!\")"
   ]
  },
  {
   "cell_type": "code",
   "execution_count": 4,
   "id": "bafbc3b7",
   "metadata": {},
   "outputs": [
    {
     "name": "stdout",
     "output_type": "stream",
     "text": [
      "✅ NumPy: 2.1.3\n",
      "✅ Pandas: 2.2.3\n"
     ]
    },
    {
     "ename": "AttributeError",
     "evalue": "module 'matplotlib.pyplot' has no attribute '__version__'",
     "output_type": "error",
     "traceback": [
      "\u001b[1;31m---------------------------------------------------------------------------\u001b[0m",
      "\u001b[1;31mAttributeError\u001b[0m                            Traceback (most recent call last)",
      "Cell \u001b[1;32mIn[4], line 8\u001b[0m\n\u001b[0;32m      6\u001b[0m \u001b[38;5;28mprint\u001b[39m(\u001b[38;5;124m\"\u001b[39m\u001b[38;5;124m✅ NumPy:\u001b[39m\u001b[38;5;124m\"\u001b[39m, np\u001b[38;5;241m.\u001b[39m__version__)\n\u001b[0;32m      7\u001b[0m \u001b[38;5;28mprint\u001b[39m(\u001b[38;5;124m\"\u001b[39m\u001b[38;5;124m✅ Pandas:\u001b[39m\u001b[38;5;124m\"\u001b[39m, pd\u001b[38;5;241m.\u001b[39m__version__)\n\u001b[1;32m----> 8\u001b[0m \u001b[38;5;28mprint\u001b[39m(\u001b[38;5;124m\"\u001b[39m\u001b[38;5;124m✅ Matplotlib:\u001b[39m\u001b[38;5;124m\"\u001b[39m, plt\u001b[38;5;241m.\u001b[39m__version__)\n\u001b[0;32m      9\u001b[0m \u001b[38;5;28mprint\u001b[39m(\u001b[38;5;124m\"\u001b[39m\u001b[38;5;130;01m\\n\u001b[39;00m\u001b[38;5;124m🎉 Tutte le librerie AI/ML pronte!\u001b[39m\u001b[38;5;124m\"\u001b[39m)\n",
      "\u001b[1;31mAttributeError\u001b[0m: module 'matplotlib.pyplot' has no attribute '__version__'"
     ]
    }
   ],
   "source": [
    "# Test librerie AI\n",
    "import numpy as np\n",
    "import pandas as pd\n",
    "import matplotlib.pyplot as plt\n",
    "\n",
    "print(\"✅ NumPy:\", np.__version__)\n",
    "print(\"✅ Pandas:\", pd.__version__)\n",
    "print(\"✅ Matplotlib:\", plt.__version__)\n",
    "print(\"\\n🎉 Tutte le librerie AI/ML pronte!\")"
   ]
  },
  {
   "cell_type": "code",
   "execution_count": 5,
   "id": "b4ec386c",
   "metadata": {},
   "outputs": [
    {
     "name": "stdout",
     "output_type": "stream",
     "text": [
      "✅ NumPy: 2.1.3\n",
      "✅ Pandas: 2.2.3\n",
      "✅ Matplotlib: 3.10.0\n",
      "\n",
      "🎉 Tutte le librerie AI/ML pronte!\n"
     ]
    }
   ],
   "source": [
    "# Test librerie AI (CORRETTO!)\n",
    "import numpy as np\n",
    "import pandas as pd\n",
    "import matplotlib\n",
    "import matplotlib.pyplot as plt\n",
    "\n",
    "print(\"✅ NumPy:\", np.__version__)\n",
    "print(\"✅ Pandas:\", pd.__version__)\n",
    "print(\"✅ Matplotlib:\", matplotlib.__version__)  # ← CORRETTO!\n",
    "print(\"\\n🎉 Tutte le librerie AI/ML pronte!\")"
   ]
  },
  {
   "cell_type": "code",
   "execution_count": 6,
   "id": "f7a5a4bf",
   "metadata": {},
   "outputs": [
    {
     "name": "stdout",
     "output_type": "stream",
     "text": [
      "📊 Analisi array: [ 1  2  3  4  5  6  7  8  9 10]\n",
      "Media: 5.5\n",
      "Deviazione standard: 2.87\n",
      "Somma totale: 55\n"
     ]
    }
   ],
   "source": [
    "# Test calcoli scientifici\n",
    "import numpy as np\n",
    "\n",
    "# Crea array\n",
    "numeri = np.array([1, 2, 3, 4, 5, 6, 7, 8, 9, 10])\n",
    "\n",
    "# Calcoli\n",
    "media = np.mean(numeri)\n",
    "std = np.std(numeri)\n",
    "somma = np.sum(numeri)\n",
    "\n",
    "print(f\"📊 Analisi array: {numeri}\")\n",
    "print(f\"Media: {media}\")\n",
    "print(f\"Deviazione standard: {std:.2f}\")\n",
    "print(f\"Somma totale: {somma}\")"
   ]
  },
  {
   "cell_type": "code",
   "execution_count": 9,
   "id": "0e976df7",
   "metadata": {},
   "outputs": [
    {
     "name": "stdout",
     "output_type": "stream",
     "text": [
      "✅ NumPy: 2.1.3\n",
      "✅ Pandas: 2.2.3\n",
      "✅ Matplotlib: 3.10.0\n",
      "\n",
      "🎉 Tutte le librerie AI/ML pronte!\n"
     ]
    }
   ],
   "source": [
    "import numpy as np\n",
    "import pandas as pd\n",
    "import matplotlib\n",
    "import matplotlib.pyplot as plt\n",
    "\n",
    "print(\"✅ NumPy:\", np.__version__)\n",
    "print(\"✅ Pandas:\", pd.__version__)\n",
    "print(\"✅ Matplotlib:\", matplotlib.__version__)\n",
    "print(\"\\n🎉 Tutte le librerie AI/ML pronte!\")"
   ]
  },
  {
   "cell_type": "code",
   "execution_count": 10,
   "id": "7595a57e",
   "metadata": {},
   "outputs": [
    {
     "name": "stdout",
     "output_type": "stream",
     "text": [
      "Array: [1 2 3 4 5]\n",
      "Media: 3.0\n",
      "Somma: 15\n"
     ]
    }
   ],
   "source": [
    "import numpy as np\n",
    "\n",
    "arr = np.array([1, 2, 3, 4, 5])\n",
    "print(\"Array:\", arr)\n",
    "print(\"Media:\", np.mean(arr))\n",
    "print(\"Somma:\", np.sum(arr))"
   ]
  },
  {
   "cell_type": "code",
   "execution_count": 11,
   "id": "550e7c3a",
   "metadata": {},
   "outputs": [
    {
     "data": {
      "text/html": [
       "<div>\n",
       "<style scoped>\n",
       "    .dataframe tbody tr th:only-of-type {\n",
       "        vertical-align: middle;\n",
       "    }\n",
       "\n",
       "    .dataframe tbody tr th {\n",
       "        vertical-align: top;\n",
       "    }\n",
       "\n",
       "    .dataframe thead th {\n",
       "        text-align: right;\n",
       "    }\n",
       "</style>\n",
       "<table border=\"1\" class=\"dataframe\">\n",
       "  <thead>\n",
       "    <tr style=\"text-align: right;\">\n",
       "      <th></th>\n",
       "      <th>Nome</th>\n",
       "      <th>Età</th>\n",
       "    </tr>\n",
       "  </thead>\n",
       "  <tbody>\n",
       "    <tr>\n",
       "      <th>0</th>\n",
       "      <td>Alice</td>\n",
       "      <td>25</td>\n",
       "    </tr>\n",
       "    <tr>\n",
       "      <th>1</th>\n",
       "      <td>Bob</td>\n",
       "      <td>30</td>\n",
       "    </tr>\n",
       "    <tr>\n",
       "      <th>2</th>\n",
       "      <td>Charlie</td>\n",
       "      <td>35</td>\n",
       "    </tr>\n",
       "  </tbody>\n",
       "</table>\n",
       "</div>"
      ],
      "text/plain": [
       "      Nome  Età\n",
       "0    Alice   25\n",
       "1      Bob   30\n",
       "2  Charlie   35"
      ]
     },
     "execution_count": 11,
     "metadata": {},
     "output_type": "execute_result"
    }
   ],
   "source": [
    "import pandas as pd\n",
    "\n",
    "df = pd.DataFrame({\n",
    "    'Nome': ['Alice', 'Bob', 'Charlie'],\n",
    "    'Età': [25, 30, 35]\n",
    "})\n",
    "\n",
    "df"
   ]
  },
  {
   "cell_type": "code",
   "execution_count": 12,
   "id": "d34c1ecb",
   "metadata": {},
   "outputs": [
    {
     "name": "stderr",
     "output_type": "stream",
     "text": [
      "c:\\Users\\pacio\\anaconda3\\Lib\\site-packages\\IPython\\core\\pylabtools.py:170: UserWarning: Glyph 127912 (\\N{ARTIST PALETTE}) missing from font(s) DejaVu Sans.\n",
      "  fig.canvas.print_figure(bytes_io, **kw)\n"
     ]
    },
    {
     "data": {
      "image/png": "[encoded data removed]",
      "text/plain": [
       "<Figure size 1000x500 with 1 Axes>"
      ]
     },
     "metadata": {},
     "output_type": "display_data"
    }
   ],
   "source": [
    "import matplotlib.pyplot as plt\n",
    "import numpy as np\n",
    "\n",
    "x = np.linspace(0, 10, 100)\n",
    "y = np.sin(x)\n",
    "\n",
    "plt.figure(figsize=(10, 5))\n",
    "plt.plot(x, y, 'b-', linewidth=2)\n",
    "plt.title('🎨 Test Grafico Matplotlib')\n",
    "plt.xlabel('x')\n",
    "plt.ylabel('sin(x)')\n",
    "plt.grid(True, alpha=0.3)\n",
    "plt.show()"
   ]
  }
 ],
 "metadata": {
  "kernelspec": {
   "display_name": "base",
   "language": "python",
   "name": "python3"
  },
  "language_info": {
   "codemirror_mode": {
    "name": "ipython",
    "version": 3
   },
   "file_extension": ".py",
   "mimetype": "text/x-python",
   "name": "python",
   "nbconvert_exporter": "python",
   "pygments_lexer": "ipython3",
   "version": "3.13.5"
  }
 },
 "nbformat": 4,
 "nbformat_minor": 5
}

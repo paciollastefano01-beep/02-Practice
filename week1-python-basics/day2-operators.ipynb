{
 "cells": [
  {
   "cell_type": "code",
   "execution_count": 1,
   "id": "7d35c0d4",
   "metadata": {},
   "outputs": [
    {
     "name": "stdout",
     "output_type": "stream",
     "text": [
      "10 + 5 = 15\n",
      "10 - 5 = 5\n",
      "10 × 5 = 50\n",
      "10 ÷ 5 = 2.0\n"
     ]
    }
   ],
   "source": [
    "# GIORNO 2: OPERATORI ARITMETICI\n",
    "\n",
    "# 1. ADDIZIONE (+)\n",
    "somma = 10 + 5\n",
    "print(f\"10 + 5 = {somma}\")\n",
    "\n",
    "# 2. SOTTRAZIONE (-)\n",
    "differenza = 10 - 5\n",
    "print(f\"10 - 5 = {differenza}\")\n",
    "\n",
    "# 3. MOLTIPLICAZIONE (*)\n",
    "prodotto = 10 * 5\n",
    "print(f\"10 × 5 = {prodotto}\")\n",
    "\n",
    "# 4. DIVISIONE (/)\n",
    "quoziente = 10 / 5\n",
    "print(f\"10 ÷ 5 = {quoziente}\")"
   ]
  },
  {
   "cell_type": "code",
   "execution_count": 2,
   "id": "a68f1951",
   "metadata": {},
   "outputs": [
    {
     "name": "stdout",
     "output_type": "stream",
     "text": [
      "DIVISIONE NORMALE:\n",
      "10 / 3 = 3.3333333333333335\n",
      "\n",
      "DIVISIONE INTERA:\n",
      "10 // 3 = 3\n",
      "\n",
      "Altri esempi:\n",
      "17 // 5 = 3\n",
      "25 // 4 = 6\n"
     ]
    }
   ],
   "source": [
    "# 5. DIVISIONE INTERA (//)\n",
    "# Restituisce SOLO la parte intera (senza decimali)\n",
    "\n",
    "print(\"DIVISIONE NORMALE:\")\n",
    "print(f\"10 / 3 = {10 / 3}\")  # 3.333...\n",
    "\n",
    "print(\"\\nDIVISIONE INTERA:\")\n",
    "print(f\"10 // 3 = {10 // 3}\")  # 3 (tronca decimali!)\n",
    "\n",
    "print(\"\\nAltri esempi:\")\n",
    "print(f\"17 // 5 = {17 // 5}\")  # 3 (17÷5 = 3 resto 2)\n",
    "print(f\"25 // 4 = {25 // 4}\")  # 6 (25÷4 = 6 resto 1)"
   ]
  },
  {
   "cell_type": "code",
   "execution_count": 3,
   "id": "adf712f8",
   "metadata": {},
   "outputs": [
    {
     "name": "stdout",
     "output_type": "stream",
     "text": [
      "RESTO DIVISIONE:\n",
      "10 % 3 = 1\n",
      "\n",
      "Esempi pratici:\n",
      "17 % 5 = 2\n",
      "20 % 6 = 2\n",
      "15 % 5 = 0\n",
      "\n",
      "TRUCCO: Numeri pari/dispari\n",
      "8 % 2 = 0\n",
      "9 % 2 = 1\n"
     ]
    }
   ],
   "source": [
    "# 6. MODULO (%) - Resto della divisione\n",
    "# \"Quanto avanza dopo aver diviso?\"\n",
    "\n",
    "print(\"RESTO DIVISIONE:\")\n",
    "print(f\"10 % 3 = {10 % 3}\")  # 10÷3 = 3 resto 1\n",
    "\n",
    "print(\"\\nEsempi pratici:\")\n",
    "print(f\"17 % 5 = {17 % 5}\")  # 17÷5 = 3 resto 2\n",
    "print(f\"20 % 6 = {20 % 6}\")  # 20÷6 = 3 resto 2\n",
    "print(f\"15 % 5 = {15 % 5}\")  # 15÷5 = 3 resto 0 (divisione esatta!)\n",
    "\n",
    "print(\"\\nTRUCCO: Numeri pari/dispari\")\n",
    "print(f\"8 % 2 = {8 % 2}\")   # 0 = PARI\n",
    "print(f\"9 % 2 = {9 % 2}\")   # 1 = DISPARI"
   ]
  },
  {
   "cell_type": "code",
   "execution_count": 4,
   "id": "d513e5d4",
   "metadata": {},
   "outputs": [
    {
     "name": "stdout",
     "output_type": "stream",
     "text": [
      "POTENZE:\n",
      "2 ** 3 = 8\n",
      "5 ** 2 = 25\n",
      "10 ** 3 = 1000\n",
      "\n",
      "POTENZE SPECIALI:\n",
      "2 ** 10 = 1024\n",
      "3 ** 4 = 81\n",
      "\n",
      "RADICE QUADRATA (trucco!):\n",
      "9 ** 0.5 = 3.0\n",
      "16 ** 0.5 = 4.0\n"
     ]
    }
   ],
   "source": [
    "# 7. POTENZA (**) - Elevamento a potenza\n",
    "# base ** esponente\n",
    "\n",
    "print(\"POTENZE:\")\n",
    "print(f\"2 ** 3 = {2 ** 3}\")    # 2³ = 2×2×2 = 8\n",
    "print(f\"5 ** 2 = {5 ** 2}\")    # 5² = 5×5 = 25\n",
    "print(f\"10 ** 3 = {10 ** 3}\")  # 10³ = 1000\n",
    "\n",
    "print(\"\\nPOTENZE SPECIALI:\")\n",
    "print(f\"2 ** 10 = {2 ** 10}\")  # 1024 (informatica!)\n",
    "print(f\"3 ** 4 = {3 ** 4}\")    # 81\n",
    "\n",
    "print(\"\\nRADICE QUADRATA (trucco!):\")\n",
    "print(f\"9 ** 0.5 = {9 ** 0.5}\")    # √9 = 3\n",
    "print(f\"16 ** 0.5 = {16 ** 0.5}\")  # √16 = 4"
   ]
  },
  {
   "cell_type": "code",
   "execution_count": 5,
   "id": "b024ced3",
   "metadata": {},
   "outputs": [
    {
     "name": "stdout",
     "output_type": "stream",
     "text": [
      "Numeri: a=20, b=7\n",
      "\n",
      "Somma: 27\n",
      "Differenza: 13\n",
      "Prodotto: 140\n",
      "Divisione: 2.86\n",
      "Divisione intera: 2\n",
      "Resto: 6\n",
      "Potenza: 400\n"
     ]
    }
   ],
   "source": [
    "# ESERCIZIO: Calcola queste operazioni\n",
    "\n",
    "a = 20\n",
    "b = 7\n",
    "\n",
    "print(f\"Numeri: a={a}, b={b}\\n\")\n",
    "\n",
    "# Completa questi calcoli (sostituisci ...)\n",
    "print(f\"Somma: {a + b}\")\n",
    "print(f\"Differenza: {a - b}\")\n",
    "print(f\"Prodotto: {a * b}\")\n",
    "print(f\"Divisione: {a / b:.2f}\")  # 2 decimali\n",
    "print(f\"Divisione intera: {a // b}\")\n",
    "print(f\"Resto: {a % b}\")\n",
    "print(f\"Potenza: {a ** 2}\")  # 20²"
   ]
  },
  {
   "cell_type": "code",
   "execution_count": 6,
   "id": "6291585a",
   "metadata": {},
   "outputs": [
    {
     "name": "stdout",
     "output_type": "stream",
     "text": [
      "x = 10, y = 5\n",
      "\n",
      "x == y ? False\n",
      "x == 10 ? True\n",
      "\n",
      "x != y ? True\n",
      "x != 10 ? False\n",
      "\n",
      "x > y ? True\n",
      "y > x ? False\n",
      "\n",
      "x < y ? False\n",
      "y < x ? True\n",
      "\n",
      "x >= 10 ? True\n",
      "x >= 11 ? False\n",
      "\n",
      "y <= 5 ? True\n",
      "y <= 4 ? False\n"
     ]
    }
   ],
   "source": [
    "# OPERATORI DI CONFRONTO\n",
    "\n",
    "x = 10\n",
    "y = 5\n",
    "\n",
    "print(f\"x = {x}, y = {y}\\n\")\n",
    "\n",
    "# 1. UGUALE (==) - Due uguale!\n",
    "print(f\"x == y ? {x == y}\")  # False (10 ≠ 5)\n",
    "print(f\"x == 10 ? {x == 10}\")  # True\n",
    "\n",
    "# 2. DIVERSO (!=)\n",
    "print(f\"\\nx != y ? {x != y}\")  # True (10 ≠ 5)\n",
    "print(f\"x != 10 ? {x != 10}\")  # False\n",
    "\n",
    "# 3. MAGGIORE (>)\n",
    "print(f\"\\nx > y ? {x > y}\")    # True (10 > 5)\n",
    "print(f\"y > x ? {y > x}\")      # False\n",
    "\n",
    "# 4. MINORE (<)\n",
    "print(f\"\\nx < y ? {x < y}\")    # False\n",
    "print(f\"y < x ? {y < x}\")      # True\n",
    "\n",
    "# 5. MAGGIORE O UGUALE (>=)\n",
    "print(f\"\\nx >= 10 ? {x >= 10}\")  # True\n",
    "print(f\"x >= 11 ? {x >= 11}\")    # False\n",
    "\n",
    "# 6. MINORE O UGUALE (<=)\n",
    "print(f\"\\ny <= 5 ? {y <= 5}\")   # True\n",
    "print(f\"y <= 4 ? {y <= 4}\")     # False"
   ]
  },
  {
   "cell_type": "code",
   "execution_count": 7,
   "id": "77862c21",
   "metadata": {},
   "outputs": [
    {
     "name": "stdout",
     "output_type": "stream",
     "text": [
      "x = 5\n",
      "x == 5 ? True\n"
     ]
    }
   ],
   "source": [
    "# ATTENZIONE! DIFFERENZA CRUCIALE!\n",
    "\n",
    "# = (UN UGUALE) = ASSEGNAZIONE\n",
    "x = 5  # Metti 5 dentro x\n",
    "\n",
    "# == (DUE UGUALE) = CONFRONTO\n",
    "risultato = (x == 5)  # Chiedi: x è uguale a 5?\n",
    "\n",
    "print(f\"x = {x}\")\n",
    "print(f\"x == 5 ? {risultato}\")\n",
    "\n",
    "# SBAGLIATO (errore comune!)\n",
    "# if x = 5:  # ❌ ERRORE! (assegnazione non confronto)\n",
    "\n",
    "# CORRETTO\n",
    "# if x == 5:  # ✅ Confronto"
   ]
  },
  {
   "cell_type": "code",
   "execution_count": 8,
   "id": "b0b6c7c4",
   "metadata": {},
   "outputs": [
    {
     "name": "stdout",
     "output_type": "stream",
     "text": [
      "\n",
      "--- CONTROLLI ---\n",
      "Sei maggiorenne? True\n",
      "Sei minorenne? False\n",
      "Hai esattamente 25 anni? False\n",
      "NON hai 30 anni? True\n",
      "Hai più di 65 anni? False\n"
     ]
    }
   ],
   "source": [
    "# ESERCIZIO: Controllo età\n",
    "\n",
    "eta = int(input(\"Quanti anni hai? \"))\n",
    "\n",
    "print(\"\\n--- CONTROLLI ---\")\n",
    "print(f\"Sei maggiorenne? {eta >= 18}\")\n",
    "print(f\"Sei minorenne? {eta < 18}\")\n",
    "print(f\"Hai esattamente 25 anni? {eta == 25}\")\n",
    "print(f\"NON hai 30 anni? {eta != 30}\")\n",
    "print(f\"Hai più di 65 anni? {eta > 65}\")"
   ]
  },
  {
   "cell_type": "code",
   "execution_count": 9,
   "id": "55c145f2",
   "metadata": {},
   "outputs": [
    {
     "name": "stdout",
     "output_type": "stream",
     "text": [
      "ESEMPIO DISCOTECA:\n",
      "Età: 20\n",
      "Ha documento? True\n",
      "\n",
      "Può entrare? True\n",
      "\n",
      "--- TABELLA VERITÀ AND ---\n",
      "True and True = True\n",
      "True and False = False\n",
      "False and True = False\n",
      "False and False = False\n"
     ]
    }
   ],
   "source": [
    "# OPERATORE AND (entrambi devono essere True)\n",
    "\n",
    "eta = 20\n",
    "ha_documento = True\n",
    "\n",
    "print(\"ESEMPIO DISCOTECA:\")\n",
    "print(f\"Età: {eta}\")\n",
    "print(f\"Ha documento? {ha_documento}\")\n",
    "\n",
    "# Entri SE: età >= 18 AND ha_documento\n",
    "puo_entrare = (eta >= 18) and ha_documento\n",
    "print(f\"\\nPuò entrare? {puo_entrare}\")\n",
    "\n",
    "print(\"\\n--- TABELLA VERITÀ AND ---\")\n",
    "print(f\"True and True = {True and True}\")      # True\n",
    "print(f\"True and False = {True and False}\")    # False\n",
    "print(f\"False and True = {False and True}\")    # False\n",
    "print(f\"False and False = {False and False}\")  # False"
   ]
  },
  {
   "cell_type": "code",
   "execution_count": 10,
   "id": "5f28d983",
   "metadata": {},
   "outputs": [
    {
     "name": "stdout",
     "output_type": "stream",
     "text": [
      "ESEMPIO SCONTO:\n",
      "Spesa: 150€\n",
      "Cliente fedele? False\n",
      "\n",
      "Ha sconto? True\n",
      "\n",
      "--- TABELLA VERITÀ OR ---\n",
      "True or True = True\n",
      "True or False = True\n",
      "False or True = True\n",
      "False or False = False\n"
     ]
    }
   ],
   "source": [
    "# OPERATORE OR (almeno uno deve essere True)\n",
    "\n",
    "spesa = 150\n",
    "cliente_fedele = False\n",
    "\n",
    "print(\"ESEMPIO SCONTO:\")\n",
    "print(f\"Spesa: {spesa}€\")\n",
    "print(f\"Cliente fedele? {cliente_fedele}\")\n",
    "\n",
    "# Sconto SE: spesa >= 100 OR cliente_fedele\n",
    "ha_sconto = (spesa >= 100) or cliente_fedele\n",
    "print(f\"\\nHa sconto? {ha_sconto}\")\n",
    "\n",
    "print(\"\\n--- TABELLA VERITÀ OR ---\")\n",
    "print(f\"True or True = {True or True}\")      # True\n",
    "print(f\"True or False = {True or False}\")    # True\n",
    "print(f\"False or True = {False or True}\")    # True\n",
    "print(f\"False or False = {False or False}\")  # False"
   ]
  },
  {
   "cell_type": "code",
   "execution_count": 11,
   "id": "64624126",
   "metadata": {},
   "outputs": [
    {
     "name": "stdout",
     "output_type": "stream",
     "text": [
      "Password corretta? False\n",
      "Password SBAGLIATA? True\n",
      "\n",
      "--- TABELLA VERITÀ NOT ---\n",
      "not True = False\n",
      "not False = True\n",
      "\n",
      "Età: 16\n",
      "È maggiorenne? False\n",
      "È minorenne? True\n"
     ]
    }
   ],
   "source": [
    "# OPERATORE NOT (inverte True/False)\n",
    "\n",
    "password_corretta = False\n",
    "\n",
    "print(f\"Password corretta? {password_corretta}\")\n",
    "print(f\"Password SBAGLIATA? {not password_corretta}\")\n",
    "\n",
    "print(\"\\n--- TABELLA VERITÀ NOT ---\")\n",
    "print(f\"not True = {not True}\")    # False\n",
    "print(f\"not False = {not False}\")  # True\n",
    "\n",
    "# Esempio pratico\n",
    "eta = 16\n",
    "print(f\"\\nEtà: {eta}\")\n",
    "print(f\"È maggiorenne? {eta >= 18}\")\n",
    "print(f\"È minorenne? {not (eta >= 18)}\")  # Opposto!"
   ]
  },
  {
   "cell_type": "code",
   "execution_count": 16,
   "id": "b8e6a05d",
   "metadata": {},
   "outputs": [
    {
     "name": "stdout",
     "output_type": "stream",
     "text": [
      "\n",
      "--- CONTROLLO ACCESSO ---\n",
      "Accesso VIP: False\n",
      "Bonus extra: False\n"
     ]
    }
   ],
   "source": [
    "# ESERCIZIO: Sistema accesso VIP\n",
    "\n",
    "eta = int(input(\"Età: \"))\n",
    "ha_tessera = input(\"Hai tessera VIP? (si/no): \").lower() == \"si\"\n",
    "spesa_totale = float(input(\"Spesa totale (€): \"))\n",
    "\n",
    "print(\"\\n--- CONTROLLO ACCESSO ---\")\n",
    "\n",
    "# Accesso VIP SE:\n",
    "# (età >= 18 AND ha_tessera) OR spesa >= 500\n",
    "accesso_vip = (eta >= 18 and ha_tessera) or (spesa_totale >= 500)\n",
    "\n",
    "print(f\"Accesso VIP: {accesso_vip}\")\n",
    "\n",
    "# Bonus extra SE:\n",
    "# accesso_vip AND spesa > 1000\n",
    "bonus_extra = accesso_vip and (spesa_totale > 1000)\n",
    "print(f\"Bonus extra: {bonus_extra}\")"
   ]
  },
  {
   "cell_type": "code",
   "execution_count": null,
   "id": "fa82beb4",
   "metadata": {},
   "outputs": [],
   "source": []
  }
 ],
 "metadata": {
  "kernelspec": {
   "display_name": "base",
   "language": "python",
   "name": "python3"
  },
  "language_info": {
   "codemirror_mode": {
    "name": "ipython",
    "version": 3
   },
   "file_extension": ".py",
   "mimetype": "text/x-python",
   "name": "python",
   "nbconvert_exporter": "python",
   "pygments_lexer": "ipython3",
   "version": "3.13.5"
  }
 },
 "nbformat": 4,
 "nbformat_minor": 5
}

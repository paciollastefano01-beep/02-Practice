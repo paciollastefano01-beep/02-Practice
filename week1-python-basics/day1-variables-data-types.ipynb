{
 "cells": [
  {
   "cell_type": "code",
   "execution_count": 1,
   "id": "9b8d2eb9",
   "metadata": {},
   "outputs": [
    {
     "name": "stdout",
     "output_type": "stream",
     "text": [
      "5\n"
     ]
    }
   ],
   "source": [
    "# La mia prima variabile!\n",
    "x = 5\n",
    "print(x)"
   ]
  },
  {
   "cell_type": "code",
   "execution_count": 2,
   "id": "c016c74d",
   "metadata": {},
   "outputs": [
    {
     "name": "stdout",
     "output_type": "stream",
     "text": [
      "Mario\n",
      "25\n",
      "Roma\n"
     ]
    }
   ],
   "source": [
    "# Esercizio: Variabili\n",
    "nome = \"Mario\"\n",
    "eta = 25\n",
    "citta = \"Roma\"\n",
    "\n",
    "print(nome)\n",
    "print(eta)\n",
    "print(citta)"
   ]
  },
  {
   "cell_type": "code",
   "execution_count": 3,
   "id": "e0174bbd",
   "metadata": {},
   "outputs": [
    {
     "name": "stdout",
     "output_type": "stream",
     "text": [
      "Int: 25 -5 1000000\n",
      "Float: 19.99 3.14159 36.6\n",
      "String: Stefano Python è fantastico! 🐍\n",
      "Bool: True False\n"
     ]
    }
   ],
   "source": [
    "# I 4 tipi fondamentali\n",
    "\n",
    "# 1. Integer (int) - Numeri interi\n",
    "anni = 25\n",
    "temperatura = -5\n",
    "abitanti = 1000000\n",
    "\n",
    "print(\"Int:\", anni, temperatura, abitanti)\n",
    "\n",
    "# 2. Float - Numeri decimali\n",
    "prezzo = 19.99\n",
    "pi_greco = 3.14159\n",
    "temperatura_esatta = 36.6\n",
    "\n",
    "print(\"Float:\", prezzo, pi_greco, temperatura_esatta)\n",
    "\n",
    "# 3. String (str) - Testo\n",
    "nome = \"Stefano\"\n",
    "frase = 'Python è fantastico!'\n",
    "emoji = \"🐍\"\n",
    "\n",
    "print(\"String:\", nome, frase, emoji)\n",
    "\n",
    "# 4. Boolean (bool) - Vero/Falso\n",
    "is_student = True\n",
    "is_raining = False\n",
    "\n",
    "print(\"Bool:\", is_student, is_raining)"
   ]
  },
  {
   "cell_type": "code",
   "execution_count": 4,
   "id": "e99ab1e1",
   "metadata": {},
   "outputs": [
    {
     "name": "stdout",
     "output_type": "stream",
     "text": [
      "<class 'int'>\n",
      "<class 'float'>\n",
      "<class 'str'>\n",
      "<class 'bool'>\n"
     ]
    }
   ],
   "source": [
    "# Scoprire il tipo di una variabile\n",
    "\n",
    "x = 42\n",
    "y = 3.14\n",
    "nome = \"Mario\"\n",
    "vero = True\n",
    "\n",
    "print(type(x))      # Tipo di x?\n",
    "print(type(y))      # Tipo di y?\n",
    "print(type(nome))   # Tipo di nome?\n",
    "print(type(vero))   # Tipo di vero?"
   ]
  },
  {
   "cell_type": "code",
   "execution_count": 5,
   "id": "31c32fa8",
   "metadata": {},
   "outputs": [
    {
     "name": "stdout",
     "output_type": "stream",
     "text": [
      "var1: <class 'int'>\n",
      "var2: <class 'str'>\n",
      "var3: <class 'float'>\n",
      "var4: <class 'bool'>\n",
      "var5: <class 'str'>\n"
     ]
    }
   ],
   "source": [
    "# Indovina prima di eseguire!\n",
    "\n",
    "var1 = 100\n",
    "var2 = \"100\"\n",
    "var3 = 100.0\n",
    "var4 = True\n",
    "var5 = \"True\"\n",
    "\n",
    "# Ora verifica\n",
    "print(\"var1:\", type(var1))  # Indovina: ?\n",
    "print(\"var2:\", type(var2))  # Indovina: ?\n",
    "print(\"var3:\", type(var3))  # Indovina: ?\n",
    "print(\"var4:\", type(var4))  # Indovina: ?\n",
    "print(\"var5:\", type(var5))  # Indovina: ?"
   ]
  },
  {
   "cell_type": "code",
   "execution_count": 6,
   "id": "c4ea461c",
   "metadata": {},
   "outputs": [
    {
     "name": "stdout",
     "output_type": "stream",
     "text": [
      "Ciao mondo!\n",
      "42\n",
      "3.14\n",
      "Stefano\n",
      "Nome: Stefano - Età: 25\n",
      "Ciao Python!\n",
      "Prima riga\n",
      "Seconda riga\n",
      "\n",
      "Dopo riga vuota\n"
     ]
    }
   ],
   "source": [
    "# Modi diversi di usare print()\n",
    "\n",
    "# 1. Stampare testo\n",
    "print(\"Ciao mondo!\")\n",
    "\n",
    "# 2. Stampare numeri\n",
    "print(42)\n",
    "print(3.14)\n",
    "\n",
    "# 3. Stampare variabili\n",
    "nome = \"Stefano\"\n",
    "print(nome)\n",
    "\n",
    "# 4. Stampare più cose insieme (separate da spazio)\n",
    "print(\"Nome:\", nome, \"- Età:\", 25)\n",
    "\n",
    "# 5. Stampare senza andare a capo (end=\"\")\n",
    "print(\"Ciao\", end=\" \")\n",
    "print(\"Python!\")\n",
    "\n",
    "# 6. Andare a capo (\\n)\n",
    "print(\"Prima riga\\nSeconda riga\")\n",
    "\n",
    "# 7. Stampare niente (riga vuota)\n",
    "print()\n",
    "print(\"Dopo riga vuota\")"
   ]
  },
  {
   "cell_type": "code",
   "execution_count": 7,
   "id": "3f22d36a",
   "metadata": {},
   "outputs": [
    {
     "name": "stdout",
     "output_type": "stream",
     "text": [
      "Mi chiamo Stefano e ho 25 anni\n",
      "Mi chiamo Stefano e ho 25 anni\n",
      "Vivo a Roma\n",
      "Totale: 59.97€\n",
      "Pi greco: 3.14\n"
     ]
    }
   ],
   "source": [
    "# F-strings (formatted strings) - IL MIGLIORE!\n",
    "\n",
    "nome = \"Stefano\"\n",
    "eta = 25\n",
    "citta = \"Roma\"\n",
    "\n",
    "# Vecchio modo (brutto)\n",
    "print(\"Mi chiamo \" + nome + \" e ho \" + str(eta) + \" anni\")\n",
    "\n",
    "# Modo moderno (f-string) - BELLISSIMO!\n",
    "print(f\"Mi chiamo {nome} e ho {eta} anni\")\n",
    "print(f\"Vivo a {citta}\")\n",
    "\n",
    "# Puoi fare anche calcoli dentro {}\n",
    "prezzo = 19.99\n",
    "quantita = 3\n",
    "print(f\"Totale: {prezzo * quantita}€\")\n",
    "\n",
    "# Formattare numeri\n",
    "pi_greco = 3.14159265359\n",
    "print(f\"Pi greco: {pi_greco:.2f}\")  # 2 decimali"
   ]
  },
  {
   "cell_type": "code",
   "execution_count": 8,
   "id": "adbbcc1f",
   "metadata": {},
   "outputs": [
    {
     "name": "stdout",
     "output_type": "stream",
     "text": [
      "Ciao! Sono ..., ho 0 anni e vivo a .... Adoro ...!\n",
      "\n",
      "Tra 5 anni avrò 5 anni!\n"
     ]
    }
   ],
   "source": [
    "# Esercizio: Crea il tuo messaggio!\n",
    "\n",
    "# Crea queste variabili con i TUOI dati\n",
    "tuo_nome = \"...\"        # Inserisci tuo nome\n",
    "tua_eta = 0             # Inserisci tua età\n",
    "tua_citta = \"...\"       # Inserisci tua città\n",
    "hobby = \"...\"           # Un tuo hobby\n",
    "\n",
    "# Ora usa f-string per creare messaggio\n",
    "messaggio = f\"Ciao! Sono {tuo_nome}, ho {tua_eta} anni e vivo a {tua_citta}. Adoro {hobby}!\"\n",
    "\n",
    "print(messaggio)\n",
    "print(f\"\\nTra 5 anni avrò {tua_eta + 5} anni!\")"
   ]
  },
  {
   "cell_type": "code",
   "execution_count": 10,
   "id": "d75f9bf0",
   "metadata": {},
   "outputs": [
    {
     "name": "stdout",
     "output_type": "stream",
     "text": [
      "Ciao! Sono Stefano, ho 29 anni e vivo a Rimini. Adoro Fare Trading!\n",
      "\n",
      "Tra 5 anni avrò 34 anni!\n"
     ]
    }
   ],
   "source": [
    "# Esercizio: Crea il tuo messaggio!\n",
    "\n",
    "# Crea queste variabili con i TUOI dati\n",
    "tuo_nome = \"Stefano\"        # Inserisci tuo nome\n",
    "tua_eta = 29             # Inserisci tua età\n",
    "tua_citta = \"Rimini\"       # Inserisci tua città\n",
    "hobby = \"Fare Trading\"           # Un tuo hobby\n",
    "\n",
    "# Ora usa f-string per creare messaggio\n",
    "messaggio = f\"Ciao! Sono {tuo_nome}, ho {tua_eta} anni e vivo a {tua_citta}. Adoro {hobby}!\"\n",
    "\n",
    "print(messaggio)\n",
    "print(f\"\\nTra 5 anni avrò {tua_eta + 5} anni!\")"
   ]
  },
  {
   "cell_type": "code",
   "execution_count": 11,
   "id": "64ac49d8",
   "metadata": {},
   "outputs": [
    {
     "name": "stdout",
     "output_type": "stream",
     "text": [
      "Ciao ! 👋\n"
     ]
    }
   ],
   "source": [
    "# Primo input!\n",
    "\n",
    "nome = input(\"Come ti chiami? \")\n",
    "print(f\"Ciao {nome}! 👋\")"
   ]
  },
  {
   "cell_type": "code",
   "execution_count": 12,
   "id": "48ec67d9",
   "metadata": {},
   "outputs": [
    {
     "name": "stdout",
     "output_type": "stream",
     "text": [
      "Ciao Stefano! 👋\n"
     ]
    }
   ],
   "source": [
    "# Primo input!\n",
    "\n",
    "nome = input(\"Come ti chiami? \")\n",
    "print(f\"Ciao {nome}! 👋\")"
   ]
  },
  {
   "cell_type": "code",
   "execution_count": 16,
   "id": "1548e13b",
   "metadata": {},
   "outputs": [
    {
     "name": "stdout",
     "output_type": "stream",
     "text": [
      "Hai 29 anni\n",
      "Tra 10 anni avrai 39 anni!\n"
     ]
    },
    {
     "ename": "ValueError",
     "evalue": "invalid literal for int() with base 10: ''",
     "output_type": "error",
     "traceback": [
      "\u001b[1;31m---------------------------------------------------------------------------\u001b[0m",
      "\u001b[1;31mValueError\u001b[0m                                Traceback (most recent call last)",
      "Cell \u001b[1;32mIn[16], line 11\u001b[0m\n\u001b[0;32m      8\u001b[0m \u001b[38;5;28mprint\u001b[39m(\u001b[38;5;124mf\u001b[39m\u001b[38;5;124m\"\u001b[39m\u001b[38;5;124mTra 10 anni avrai \u001b[39m\u001b[38;5;132;01m{\u001b[39;00meta\u001b[38;5;250m \u001b[39m\u001b[38;5;241m+\u001b[39m\u001b[38;5;250m \u001b[39m\u001b[38;5;241m10\u001b[39m\u001b[38;5;132;01m}\u001b[39;00m\u001b[38;5;124m anni!\u001b[39m\u001b[38;5;124m\"\u001b[39m)\n\u001b[0;32m     10\u001b[0m \u001b[38;5;66;03m# Versione compatta (converti subito)\u001b[39;00m\n\u001b[1;32m---> 11\u001b[0m altezza \u001b[38;5;241m=\u001b[39m \u001b[38;5;28mint\u001b[39m(\u001b[38;5;28minput\u001b[39m(\u001b[38;5;124m\"\u001b[39m\u001b[38;5;124mAltezza in cm? \u001b[39m\u001b[38;5;124m\"\u001b[39m))\n\u001b[0;32m     12\u001b[0m \u001b[38;5;28mprint\u001b[39m(\u001b[38;5;124mf\u001b[39m\u001b[38;5;124m\"\u001b[39m\u001b[38;5;124mSei alto \u001b[39m\u001b[38;5;132;01m{\u001b[39;00maltezza\u001b[38;5;132;01m}\u001b[39;00m\u001b[38;5;124mcm, cioè \u001b[39m\u001b[38;5;132;01m{\u001b[39;00maltezza\u001b[38;5;241m/\u001b[39m\u001b[38;5;241m100\u001b[39m\u001b[38;5;132;01m}\u001b[39;00m\u001b[38;5;124mm\u001b[39m\u001b[38;5;124m\"\u001b[39m)\n\u001b[0;32m     14\u001b[0m \u001b[38;5;66;03m# Input decimale (float)\u001b[39;00m\n",
      "\u001b[1;31mValueError\u001b[0m: invalid literal for int() with base 10: ''"
     ]
    }
   ],
   "source": [
    "# Input con conversione tipo\n",
    "\n",
    "# Chiedi età (numero)\n",
    "eta_str = input(\"Quanti anni hai? \")\n",
    "eta = int(eta_str)  # Converti stringa → int\n",
    "\n",
    "print(f\"Hai {eta} anni\")\n",
    "print(f\"Tra 10 anni avrai {eta + 10} anni!\")\n",
    "\n",
    "# Versione compatta (converti subito)\n",
    "altezza = int(input(\"Altezza in cm? \"))\n",
    "print(f\"Sei alto {altezza}cm, cioè {altezza/100}m\")\n",
    "\n",
    "# Input decimale (float)\n",
    "prezzo = float(input(\"Prezzo prodotto: \"))\n",
    "print(f\"Con IVA 22%: {prezzo * 1.22:.2f}€\")"
   ]
  },
  {
   "cell_type": "code",
   "execution_count": 17,
   "id": "97d208b9",
   "metadata": {},
   "outputs": [
    {
     "name": "stdout",
     "output_type": "stream",
     "text": [
      "Hai 29 anni\n",
      "Tra 10 anni avrai 39 anni!\n",
      "Sei alto 169cm, cioè 1.69m\n",
      "Con IVA 22%: 2.84€\n"
     ]
    }
   ],
   "source": [
    "# Input con conversione tipo\n",
    "\n",
    "# Chiedi età (numero)\n",
    "eta_str = input(\"Quanti anni hai? \")\n",
    "eta = int(eta_str)  # Converti stringa → int\n",
    "\n",
    "print(f\"Hai {eta} anni\")\n",
    "print(f\"Tra 10 anni avrai {eta + 10} anni!\")\n",
    "\n",
    "# Versione compatta (converti subito)\n",
    "altezza = int(input(\"Altezza in cm? \"))\n",
    "print(f\"Sei alto {altezza}cm, cioè {altezza/100}m\")\n",
    "\n",
    "# Input decimale (float)\n",
    "prezzo = float(input(\"Prezzo prodotto: \"))\n",
    "print(f\"Con IVA 22%: {prezzo * 1.22:.2f}€\")"
   ]
  },
  {
   "cell_type": "code",
   "execution_count": 18,
   "id": "38b9b7f6",
   "metadata": {},
   "outputs": [
    {
     "name": "stdout",
     "output_type": "stream",
     "text": [
      "\n",
      "📅 Hai 29 anni!\n",
      "🔮 Nel 2035 avrai 39 anni!\n",
      "👴 Nel 2075 avrai 79 anni!\n"
     ]
    }
   ],
   "source": [
    "# Esercizio: Calcolatrice età\n",
    "\n",
    "# Chiedi anno nascita\n",
    "anno_nascita = int(input(\"In che anno sei nato? \"))\n",
    "\n",
    "# Calcola età (assumiamo anno 2025)\n",
    "anno_corrente = 2025\n",
    "eta_attuale = anno_corrente - anno_nascita\n",
    "\n",
    "# Mostra risultati\n",
    "print(f\"\\n📅 Hai {eta_attuale} anni!\")\n",
    "print(f\"🔮 Nel 2035 avrai {eta_attuale + 10} anni!\")\n",
    "print(f\"👴 Nel 2075 avrai {eta_attuale + 50} anni!\")"
   ]
  },
  {
   "cell_type": "code",
   "execution_count": 19,
   "id": "66869425",
   "metadata": {},
   "outputs": [
    {
     "ename": "SyntaxError",
     "evalue": "unmatched ')' (2664774069.py, line 11)",
     "output_type": "error",
     "traceback": [
      "\u001b[1;36m  Cell \u001b[1;32mIn[19], line 11\u001b[1;36m\u001b[0m\n\u001b[1;33m    citta = input(\"🏙️ Città: \"))\u001b[0m\n\u001b[1;37m                               ^\u001b[0m\n\u001b[1;31mSyntaxError\u001b[0m\u001b[1;31m:\u001b[0m unmatched ')'\n"
     ]
    }
   ],
   "source": [
    "# 🎉 MINI-PROGETTO GIORNO 1: Presentazione Interattiva\n",
    "\n",
    "print(\"=\" * 50)\n",
    "print(\"🎨 CREATORE PRESENTAZIONE PERSONALE\")\n",
    "print(\"=\" * 50)\n",
    "print()\n",
    "\n",
    "# Raccogli informazioni\n",
    "nome = input(\"💁 Nome completo: \")\n",
    "eta = int(input(\"🎂 Età: \"))\n",
    "citta = input(\"🏙️ Città: \"))\n",
    "hobby = input(\"🎮 Hobby preferito: \")\n",
    "linguaggio = input(\"💻 Linguaggio programmazione preferito: \")\n",
    "\n",
    "# Calcoli extra\n",
    "anni_a_30 = 30 - eta if eta < 30 else 0\n",
    "\n",
    "# Genera presentazione\n",
    "print(\"\\n\" + \"=\" * 50)\n",
    "print(\"📄 LA TUA PRESENTAZIONE\")\n",
    "print(\"=\" * 50)\n",
    "print()\n",
    "print(f\"👤 Nome: {nome}\")\n",
    "print(f\"🎂 Età: {eta} anni\")\n",
    "print(f\"🏙️ Città: {citta}\")\n",
    "print(f\"🎮 Hobby: {hobby}\")\n",
    "print(f\"💻 Linguaggio preferito: {linguaggio}\")\n",
    "print()\n",
    "print(\"📊 STATISTICHE:\")\n",
    "print(f\"  • Tra 5 anni: {eta + 5} anni\")\n",
    "print(f\"  • Tra 10 anni: {eta + 10} anni\")\n",
    "if anni_a_30 > 0:\n",
    "    print(f\"  • Mancano {anni_a_30} anni ai 30!\")\n",
    "else:\n",
    "    print(f\"  • Hai superato i 30 anni!\")\n",
    "print()\n",
    "print(\"=\" * 50)\n",
    "print(\"✅ Presentazione completata!\")\n",
    "print(\"=\" * 50)"
   ]
  },
  {
   "cell_type": "code",
   "execution_count": 22,
   "id": "4a84235a",
   "metadata": {},
   "outputs": [
    {
     "name": "stdout",
     "output_type": "stream",
     "text": [
      "==================================================\n",
      "🎨 CREATORE PRESENTAZIONE PERSONALE\n",
      "==================================================\n",
      "\n",
      "\n",
      "==================================================\n",
      "📄 LA TUA PRESENTAZIONE\n",
      "==================================================\n",
      "\n",
      "👤 Nome: Stefano Paciolla\n",
      "🎂 Età: 29 anni\n",
      "🏙️ Città: Rimini\n",
      "🎮 Hobby: Fare trading\n",
      "💻 Linguaggio preferito: Python Anaconda\n",
      "\n",
      "📊 STATISTICHE:\n",
      "  • Tra 5 anni: 34 anni\n",
      "  • Tra 10 anni: 39 anni\n",
      "  • Mancano 1 anni ai 30!\n",
      "\n",
      "==================================================\n",
      "✅ Presentazione completata!\n",
      "==================================================\n"
     ]
    }
   ],
   "source": [
    "# 🎉 MINI-PROGETTO GIORNO 1: Presentazione Interattiva\n",
    "\n",
    "print(\"=\" * 50)\n",
    "print(\"🎨 CREATORE PRESENTAZIONE PERSONALE\")\n",
    "print(\"=\" * 50)\n",
    "print()\n",
    "\n",
    "# Raccogli informazioni\n",
    "nome = input(\"💁 Nome completo: \")\n",
    "eta = int(input(\"🎂 Età: \"))\n",
    "citta = input(\"🏙️ Città: \")\n",
    "hobby = input(\"🎮 Hobby preferito: \")\n",
    "linguaggio = input(\"💻 Linguaggio programmazione preferito: \")\n",
    "\n",
    "# Calcoli extra\n",
    "anni_a_30 = 30 - eta if eta < 30 else 0\n",
    "\n",
    "# Genera presentazione\n",
    "print(\"\\n\" + \"=\" * 50)\n",
    "print(\"📄 LA TUA PRESENTAZIONE\")\n",
    "print(\"=\" * 50)\n",
    "print()\n",
    "print(f\"👤 Nome: {nome}\")\n",
    "print(f\"🎂 Età: {eta} anni\")\n",
    "print(f\"🏙️ Città: {citta}\")\n",
    "print(f\"🎮 Hobby: {hobby}\")\n",
    "print(f\"💻 Linguaggio preferito: {linguaggio}\")\n",
    "print()\n",
    "print(\"📊 STATISTICHE:\")\n",
    "print(f\"  • Tra 5 anni: {eta + 5} anni\")\n",
    "print(f\"  • Tra 10 anni: {eta + 10} anni\")\n",
    "if anni_a_30 > 0:\n",
    "    print(f\"  • Mancano {anni_a_30} anni ai 30!\")\n",
    "else:\n",
    "    print(f\"  • Hai superato i 30 anni!\")\n",
    "print()\n",
    "print(\"=\" * 50)\n",
    "print(\"✅ Presentazione completata!\")\n",
    "print(\"=\" * 50)"
   ]
  }
 ],
 "metadata": {
  "kernelspec": {
   "display_name": "base",
   "language": "python",
   "name": "python3"
  },
  "language_info": {
   "codemirror_mode": {
    "name": "ipython",
    "version": 3
   },
   "file_extension": ".py",
   "mimetype": "text/x-python",
   "name": "python",
   "nbconvert_exporter": "python",
   "pygments_lexer": "ipython3",
   "version": "3.13.5"
  }
 },
 "nbformat": 4,
 "nbformat_minor": 5
}
